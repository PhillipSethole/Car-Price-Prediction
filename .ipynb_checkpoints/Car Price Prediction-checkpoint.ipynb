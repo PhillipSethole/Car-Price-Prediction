{
 "cells": [
  {
   "cell_type": "markdown",
   "id": "e23e4938-e003-44b4-b7c7-2016eb5726eb",
   "metadata": {},
   "source": [
    "# car price prediction"
   ]
  },
  {
   "cell_type": "code",
   "execution_count": 1,
   "id": "f8eafe84-5a73-4446-8eb7-98fd50940376",
   "metadata": {},
   "outputs": [
    {
     "data": {
      "text/html": [
       "<img src=\"https://miro.medium.com/v2/resize:fit:1200/0*Y7SWB-YvdAfsAUYZ.png\"/>"
      ],
      "text/plain": [
       "<IPython.core.display.Image object>"
      ]
     },
     "execution_count": 1,
     "metadata": {},
     "output_type": "execute_result"
    }
   ],
   "source": [
    "from IPython.display import Image\n",
    "Image(url='https://miro.medium.com/v2/resize:fit:1200/0*Y7SWB-YvdAfsAUYZ.png')\n"
   ]
  },
  {
   "cell_type": "markdown",
   "id": "68987c7a-2d0d-477b-862e-daf5e1e5005a",
   "metadata": {},
   "source": [
    "# Table of Contents\n",
    "- [1. Project Overview](#1-project-overview)\n",
    "  - [1.1 Introduction](#11-introduction)\n",
    "  - [1.2 Problem Statement](#12-problem-statement)\n",
    "  - [1.3 Objectives](#13-objectives)\n",
    "- [2. Importing Packages](#2-importing-packages)\n",
    "- [3. Loading Data](#3-loading-data)\n",
    "- [4. Data Cleaning](#4-data-cleaning)\n",
    "- [5. Exploratory Data Analysis (EDA)](#5-exploratory-data-analysis-eda)\n",
    "- [6. Regression](#5-regression)\n",
    "- [7. Conclusion](#6-conclusion)"
   ]
  },
  {
   "cell_type": "markdown",
   "id": "3f55dcce-50bb-4424-ac1a-d99bfaba9f91",
   "metadata": {},
   "source": [
    "### 1. Project Overview"
   ]
  },
  {
   "cell_type": "markdown",
   "id": "c4b46f83-8e0b-45f0-aeec-980c90fe79fa",
   "metadata": {},
   "source": [
    "##### 1.1 Introduction"
   ]
  },
  {
   "cell_type": "markdown",
   "id": "8d3ce4fb",
   "metadata": {},
   "source": [
    "The automobile industry is one of the most significant contributors to the global economy. With the surge in demand for both new and used cars, understanding the factors that determine car prices is essential for consumers, manufacturers, and resellers. Predicting car prices accurately can help customers make informed purchase decisions, aid manufacturers in pricing strategies, and assist resellers in maximizing profits.\n",
    "\n",
    "This project aims to use data science techniques to analyze car attributes and build a machine learning model capable of predicting car prices. The project will also uncover insights into how various features, such as mileage, age, and horsepower, influence car value."
   ]
  },
  {
   "cell_type": "markdown",
   "id": "1cd41b3c-559e-4650-a439-a07ec8a78fb7",
   "metadata": {},
   "source": [
    "##### 1.2 Problem Statement"
   ]
  },
  {
   "cell_type": "markdown",
   "id": "870ce28d-de30-4573-a33f-438d660e5372",
   "metadata": {},
   "source": [
    "The car market is highly dynamic, with prices influenced by numerous factors like make, model, age, mileage, and features. Traditional methods of determining car prices often rely on manual appraisals, which can be subjective and inconsistent.\n",
    "\n",
    "This creates a need for a data-driven approach to predict car prices accurately. The challenge is to build a model that can:\n",
    "\n",
    "- Handle the diversity of car features.\n",
    "- Account for non-linear relationships between features and prices.\n",
    "- Provide explainable predictions for better decision-making."
   ]
  },
  {
   "cell_type": "markdown",
   "id": "35de7b22-fb10-4da4-b923-ec68dd8f9417",
   "metadata": {},
   "source": [
    "##### 1.3 Objectives"
   ]
  },
  {
   "cell_type": "markdown",
   "id": "775777bf-a0cc-49c6-b3ef-4ea10018cf8d",
   "metadata": {},
   "source": [
    "1. Develop a Machine Learning Model:\n",
    "\n",
    "- Build and evaluate a regression model to predict car prices based on their features.\n",
    "2. Feature Analysis:\n",
    "\n",
    "- Identify and quantify the influence of various features (e.g., brand, age, mileage, and horsepower) on car prices.\n",
    "3. Provide Insights:\n",
    "\n",
    "- Offer actionable insights for buyers, sellers, and manufacturers based on the model's output and feature importance.\n"
   ]
  },
  {
   "cell_type": "markdown",
   "id": "97b005ab-8b92-4745-9ed8-b38df20e1059",
   "metadata": {},
   "source": [
    "### 2. Importing Packages"
   ]
  },
  {
   "cell_type": "markdown",
   "id": "9d44aa40",
   "metadata": {},
   "source": [
    "To carry out data cleaning, manipulation, and visualization, we’ll use the following Python libraries:\n",
    "\n",
    "- pandas: Provides data structures and functions needed to efficiently clean and manipulate the dataset.\n",
    "- numpy: Adds support for numerical operations, including handling arrays and mathematical functions for outlier treatment.\n",
    "- matplotlib and seaborn: Libraries for data visualization. matplotlib is a core plotting library, while seaborn builds on it to provide more aesthetic and statistical visualizations."
   ]
  },
  {
   "cell_type": "code",
   "execution_count": 2,
   "id": "4b113429-290f-49b9-8f92-5704b4ce7b08",
   "metadata": {},
   "outputs": [],
   "source": [
    "# Libraries for data loading, manipulation and analysis\n",
    "\n",
    "import numpy as np\n",
    "import pandas as pd\n",
    "import csv\n",
    "import seaborn as sns\n",
    "import matplotlib.pyplot as plt\n",
    "\n",
    "# Displays output inline\n",
    "%matplotlib inline\n",
    "\n",
    "# Libraries for Handing Errors\n",
    "import warnings\n",
    "warnings.filterwarnings('ignore')"
   ]
  },
  {
   "cell_type": "markdown",
   "id": "878f11a5-3bce-4070-8974-9635a4d97bf9",
   "metadata": {},
   "source": [
    "### 3. Loading Data"
   ]
  },
  {
   "cell_type": "markdown",
   "id": "072a304b",
   "metadata": {},
   "source": [
    "The data used for this project was located in the car_prediction_data.csv file. To better manipulate and analyse the car_prediction_data.csv file, it was loaded into a Pandas Data Frame using the Pandas function, .read_csv()."
   ]
  },
  {
   "cell_type": "code",
   "execution_count": 3,
   "id": "b1a99092-7dcf-430f-9561-a18daa15aee5",
   "metadata": {},
   "outputs": [],
   "source": [
    "# loading dataset\n",
    "df = pd.read_csv(\"car_prediction_data.csv\", index_col=False)"
   ]
  },
  {
   "cell_type": "code",
   "execution_count": 4,
   "id": "4835b0be",
   "metadata": {},
   "outputs": [
    {
     "data": {
      "text/html": [
       "<div>\n",
       "<style scoped>\n",
       "    .dataframe tbody tr th:only-of-type {\n",
       "        vertical-align: middle;\n",
       "    }\n",
       "\n",
       "    .dataframe tbody tr th {\n",
       "        vertical-align: top;\n",
       "    }\n",
       "\n",
       "    .dataframe thead th {\n",
       "        text-align: right;\n",
       "    }\n",
       "</style>\n",
       "<table border=\"1\" class=\"dataframe\">\n",
       "  <thead>\n",
       "    <tr style=\"text-align: right;\">\n",
       "      <th></th>\n",
       "      <th>Car_Name</th>\n",
       "      <th>Year</th>\n",
       "      <th>Selling_Price</th>\n",
       "      <th>Present_Price</th>\n",
       "      <th>Kms_Driven</th>\n",
       "      <th>Fuel_Type</th>\n",
       "      <th>Seller_Type</th>\n",
       "      <th>Transmission</th>\n",
       "      <th>Owner</th>\n",
       "    </tr>\n",
       "  </thead>\n",
       "  <tbody>\n",
       "    <tr>\n",
       "      <th>0</th>\n",
       "      <td>ritz</td>\n",
       "      <td>2014</td>\n",
       "      <td>3.35</td>\n",
       "      <td>5.59</td>\n",
       "      <td>27000</td>\n",
       "      <td>Petrol</td>\n",
       "      <td>Dealer</td>\n",
       "      <td>Manual</td>\n",
       "      <td>0</td>\n",
       "    </tr>\n",
       "    <tr>\n",
       "      <th>1</th>\n",
       "      <td>sx4</td>\n",
       "      <td>2013</td>\n",
       "      <td>4.75</td>\n",
       "      <td>9.54</td>\n",
       "      <td>43000</td>\n",
       "      <td>Diesel</td>\n",
       "      <td>Dealer</td>\n",
       "      <td>Manual</td>\n",
       "      <td>0</td>\n",
       "    </tr>\n",
       "    <tr>\n",
       "      <th>2</th>\n",
       "      <td>ciaz</td>\n",
       "      <td>2017</td>\n",
       "      <td>7.25</td>\n",
       "      <td>9.85</td>\n",
       "      <td>6900</td>\n",
       "      <td>Petrol</td>\n",
       "      <td>Dealer</td>\n",
       "      <td>Manual</td>\n",
       "      <td>0</td>\n",
       "    </tr>\n",
       "    <tr>\n",
       "      <th>3</th>\n",
       "      <td>wagon r</td>\n",
       "      <td>2011</td>\n",
       "      <td>2.85</td>\n",
       "      <td>4.15</td>\n",
       "      <td>5200</td>\n",
       "      <td>Petrol</td>\n",
       "      <td>Dealer</td>\n",
       "      <td>Manual</td>\n",
       "      <td>0</td>\n",
       "    </tr>\n",
       "    <tr>\n",
       "      <th>4</th>\n",
       "      <td>swift</td>\n",
       "      <td>2014</td>\n",
       "      <td>4.60</td>\n",
       "      <td>6.87</td>\n",
       "      <td>42450</td>\n",
       "      <td>Diesel</td>\n",
       "      <td>Dealer</td>\n",
       "      <td>Manual</td>\n",
       "      <td>0</td>\n",
       "    </tr>\n",
       "  </tbody>\n",
       "</table>\n",
       "</div>"
      ],
      "text/plain": [
       "  Car_Name  Year  Selling_Price  Present_Price  Kms_Driven Fuel_Type  \\\n",
       "0     ritz  2014           3.35           5.59       27000    Petrol   \n",
       "1      sx4  2013           4.75           9.54       43000    Diesel   \n",
       "2     ciaz  2017           7.25           9.85        6900    Petrol   \n",
       "3  wagon r  2011           2.85           4.15        5200    Petrol   \n",
       "4    swift  2014           4.60           6.87       42450    Diesel   \n",
       "\n",
       "  Seller_Type Transmission  Owner  \n",
       "0      Dealer       Manual      0  \n",
       "1      Dealer       Manual      0  \n",
       "2      Dealer       Manual      0  \n",
       "3      Dealer       Manual      0  \n",
       "4      Dealer       Manual      0  "
      ]
     },
     "execution_count": 4,
     "metadata": {},
     "output_type": "execute_result"
    }
   ],
   "source": [
    "df.head()"
   ]
  },
  {
   "cell_type": "markdown",
   "id": "46d3b7bf",
   "metadata": {},
   "source": [
    "Check the DataFrame to see if it loaded correctly."
   ]
  },
  {
   "cell_type": "code",
   "execution_count": 5,
   "id": "dbc141c5",
   "metadata": {},
   "outputs": [
    {
     "data": {
      "text/plain": [
       "(301, 9)"
      ]
     },
     "execution_count": 5,
     "metadata": {},
     "output_type": "execute_result"
    }
   ],
   "source": [
    "# Displays the number of rows and columns\n",
    "df.shape"
   ]
  },
  {
   "cell_type": "markdown",
   "id": "c245422b",
   "metadata": {},
   "source": [
    "Results : The dataset consists of 301 rows (observations) and 9 columns (features)."
   ]
  },
  {
   "cell_type": "code",
   "execution_count": 6,
   "id": "a4082397",
   "metadata": {},
   "outputs": [
    {
     "name": "stdout",
     "output_type": "stream",
     "text": [
      "<class 'pandas.core.frame.DataFrame'>\n",
      "RangeIndex: 301 entries, 0 to 300\n",
      "Data columns (total 9 columns):\n",
      " #   Column         Non-Null Count  Dtype  \n",
      "---  ------         --------------  -----  \n",
      " 0   Car_Name       301 non-null    object \n",
      " 1   Year           301 non-null    int64  \n",
      " 2   Selling_Price  301 non-null    float64\n",
      " 3   Present_Price  301 non-null    float64\n",
      " 4   Kms_Driven     301 non-null    int64  \n",
      " 5   Fuel_Type      301 non-null    object \n",
      " 6   Seller_Type    301 non-null    object \n",
      " 7   Transmission   301 non-null    object \n",
      " 8   Owner          301 non-null    int64  \n",
      "dtypes: float64(2), int64(3), object(4)\n",
      "memory usage: 21.3+ KB\n"
     ]
    }
   ],
   "source": [
    "## Display summary information about the DataFrame.\n",
    "df.info()"
   ]
  },
  {
   "cell_type": "code",
   "execution_count": 7,
   "id": "cfbba945",
   "metadata": {},
   "outputs": [
    {
     "data": {
      "text/html": [
       "<div>\n",
       "<style scoped>\n",
       "    .dataframe tbody tr th:only-of-type {\n",
       "        vertical-align: middle;\n",
       "    }\n",
       "\n",
       "    .dataframe tbody tr th {\n",
       "        vertical-align: top;\n",
       "    }\n",
       "\n",
       "    .dataframe thead th {\n",
       "        text-align: right;\n",
       "    }\n",
       "</style>\n",
       "<table border=\"1\" class=\"dataframe\">\n",
       "  <thead>\n",
       "    <tr style=\"text-align: right;\">\n",
       "      <th></th>\n",
       "      <th>Year</th>\n",
       "      <th>Selling_Price</th>\n",
       "      <th>Present_Price</th>\n",
       "      <th>Kms_Driven</th>\n",
       "      <th>Owner</th>\n",
       "    </tr>\n",
       "  </thead>\n",
       "  <tbody>\n",
       "    <tr>\n",
       "      <th>count</th>\n",
       "      <td>301.000000</td>\n",
       "      <td>301.000000</td>\n",
       "      <td>301.000000</td>\n",
       "      <td>301.000000</td>\n",
       "      <td>301.000000</td>\n",
       "    </tr>\n",
       "    <tr>\n",
       "      <th>mean</th>\n",
       "      <td>2013.627907</td>\n",
       "      <td>4.661296</td>\n",
       "      <td>7.628472</td>\n",
       "      <td>36947.205980</td>\n",
       "      <td>0.043189</td>\n",
       "    </tr>\n",
       "    <tr>\n",
       "      <th>std</th>\n",
       "      <td>2.891554</td>\n",
       "      <td>5.082812</td>\n",
       "      <td>8.644115</td>\n",
       "      <td>38886.883882</td>\n",
       "      <td>0.247915</td>\n",
       "    </tr>\n",
       "    <tr>\n",
       "      <th>min</th>\n",
       "      <td>2003.000000</td>\n",
       "      <td>0.100000</td>\n",
       "      <td>0.320000</td>\n",
       "      <td>500.000000</td>\n",
       "      <td>0.000000</td>\n",
       "    </tr>\n",
       "    <tr>\n",
       "      <th>25%</th>\n",
       "      <td>2012.000000</td>\n",
       "      <td>0.900000</td>\n",
       "      <td>1.200000</td>\n",
       "      <td>15000.000000</td>\n",
       "      <td>0.000000</td>\n",
       "    </tr>\n",
       "    <tr>\n",
       "      <th>50%</th>\n",
       "      <td>2014.000000</td>\n",
       "      <td>3.600000</td>\n",
       "      <td>6.400000</td>\n",
       "      <td>32000.000000</td>\n",
       "      <td>0.000000</td>\n",
       "    </tr>\n",
       "    <tr>\n",
       "      <th>75%</th>\n",
       "      <td>2016.000000</td>\n",
       "      <td>6.000000</td>\n",
       "      <td>9.900000</td>\n",
       "      <td>48767.000000</td>\n",
       "      <td>0.000000</td>\n",
       "    </tr>\n",
       "    <tr>\n",
       "      <th>max</th>\n",
       "      <td>2018.000000</td>\n",
       "      <td>35.000000</td>\n",
       "      <td>92.600000</td>\n",
       "      <td>500000.000000</td>\n",
       "      <td>3.000000</td>\n",
       "    </tr>\n",
       "  </tbody>\n",
       "</table>\n",
       "</div>"
      ],
      "text/plain": [
       "              Year  Selling_Price  Present_Price     Kms_Driven       Owner\n",
       "count   301.000000     301.000000     301.000000     301.000000  301.000000\n",
       "mean   2013.627907       4.661296       7.628472   36947.205980    0.043189\n",
       "std       2.891554       5.082812       8.644115   38886.883882    0.247915\n",
       "min    2003.000000       0.100000       0.320000     500.000000    0.000000\n",
       "25%    2012.000000       0.900000       1.200000   15000.000000    0.000000\n",
       "50%    2014.000000       3.600000       6.400000   32000.000000    0.000000\n",
       "75%    2016.000000       6.000000       9.900000   48767.000000    0.000000\n",
       "max    2018.000000      35.000000      92.600000  500000.000000    3.000000"
      ]
     },
     "execution_count": 7,
     "metadata": {},
     "output_type": "execute_result"
    }
   ],
   "source": [
    "df.describe()"
   ]
  },
  {
   "cell_type": "markdown",
   "id": "8b170436-20e0-42fe-b13e-bb91120ad249",
   "metadata": {},
   "source": [
    "### 4. Data Cleaning"
   ]
  },
  {
   "cell_type": "markdown",
   "id": "766ba7a4",
   "metadata": {},
   "source": [
    "4.1 Handle Missing Values"
   ]
  },
  {
   "cell_type": "code",
   "execution_count": 8,
   "id": "c49f7203-7695-455f-a5b7-8a9311c82315",
   "metadata": {},
   "outputs": [
    {
     "data": {
      "text/plain": [
       "Car_Name         0\n",
       "Year             0\n",
       "Selling_Price    0\n",
       "Present_Price    0\n",
       "Kms_Driven       0\n",
       "Fuel_Type        0\n",
       "Seller_Type      0\n",
       "Transmission     0\n",
       "Owner            0\n",
       "dtype: int64"
      ]
     },
     "execution_count": 8,
     "metadata": {},
     "output_type": "execute_result"
    }
   ],
   "source": [
    "df.isnull().sum()"
   ]
  },
  {
   "cell_type": "markdown",
   "id": "9b36e2ef",
   "metadata": {},
   "source": [
    "Our dataset has no missing values"
   ]
  },
  {
   "cell_type": "markdown",
   "id": "73093377",
   "metadata": {},
   "source": [
    "4.2 Remove Duplicates"
   ]
  },
  {
   "cell_type": "code",
   "execution_count": 9,
   "id": "ef983166",
   "metadata": {},
   "outputs": [
    {
     "data": {
      "text/plain": [
       "0      False\n",
       "1      False\n",
       "2      False\n",
       "3      False\n",
       "4      False\n",
       "       ...  \n",
       "296    False\n",
       "297    False\n",
       "298    False\n",
       "299    False\n",
       "300    False\n",
       "Length: 301, dtype: bool"
      ]
     },
     "execution_count": 9,
     "metadata": {},
     "output_type": "execute_result"
    }
   ],
   "source": [
    "df.duplicated()"
   ]
  },
  {
   "cell_type": "markdown",
   "id": "1e7043ae",
   "metadata": {},
   "source": [
    "Check for duplicates"
   ]
  },
  {
   "cell_type": "code",
   "execution_count": 10,
   "id": "9104d6cf",
   "metadata": {},
   "outputs": [],
   "source": [
    "df.drop_duplicates(inplace=True)"
   ]
  },
  {
   "cell_type": "markdown",
   "id": "87635098",
   "metadata": {},
   "source": [
    "Remove duplicates"
   ]
  },
  {
   "cell_type": "markdown",
   "id": "f6ffbfa0",
   "metadata": {},
   "source": [
    "4.3 Encode Categorical Variables"
   ]
  },
  {
   "cell_type": "code",
   "execution_count": 11,
   "id": "f21585b9",
   "metadata": {},
   "outputs": [
    {
     "name": "stdout",
     "output_type": "stream",
     "text": [
      "\n",
      "DataFrame after One-Hot Encoding All Categorical Columns:\n",
      "     Year  Selling_Price  Present_Price  Kms_Driven  Owner  \\\n",
      "0    2014           3.35           5.59       27000      0   \n",
      "1    2013           4.75           9.54       43000      0   \n",
      "2    2017           7.25           9.85        6900      0   \n",
      "3    2011           2.85           4.15        5200      0   \n",
      "4    2014           4.60           6.87       42450      0   \n",
      "..    ...            ...            ...         ...    ...   \n",
      "296  2016           9.50          11.60       33988      0   \n",
      "297  2015           4.00           5.90       60000      0   \n",
      "298  2009           3.35          11.00       87934      0   \n",
      "299  2017          11.50          12.50        9000      0   \n",
      "300  2016           5.30           5.90        5464      0   \n",
      "\n",
      "     Car_Name_Activa 3g  Car_Name_Activa 4g  Car_Name_Bajaj  ct 100  \\\n",
      "0                 False               False                   False   \n",
      "1                 False               False                   False   \n",
      "2                 False               False                   False   \n",
      "3                 False               False                   False   \n",
      "4                 False               False                   False   \n",
      "..                  ...                 ...                     ...   \n",
      "296               False               False                   False   \n",
      "297               False               False                   False   \n",
      "298               False               False                   False   \n",
      "299               False               False                   False   \n",
      "300               False               False                   False   \n",
      "\n",
      "     Car_Name_Bajaj Avenger 150  Car_Name_Bajaj Avenger 150 street  ...  \\\n",
      "0                         False                              False  ...   \n",
      "1                         False                              False  ...   \n",
      "2                         False                              False  ...   \n",
      "3                         False                              False  ...   \n",
      "4                         False                              False  ...   \n",
      "..                          ...                                ...  ...   \n",
      "296                       False                              False  ...   \n",
      "297                       False                              False  ...   \n",
      "298                       False                              False  ...   \n",
      "299                       False                              False  ...   \n",
      "300                       False                              False  ...   \n",
      "\n",
      "     Car_Name_swift  Car_Name_sx4  Car_Name_verna  Car_Name_vitara brezza  \\\n",
      "0             False         False           False                   False   \n",
      "1             False          True           False                   False   \n",
      "2             False         False           False                   False   \n",
      "3             False         False           False                   False   \n",
      "4              True         False           False                   False   \n",
      "..              ...           ...             ...                     ...   \n",
      "296           False         False           False                   False   \n",
      "297           False         False           False                   False   \n",
      "298           False         False           False                   False   \n",
      "299           False         False           False                   False   \n",
      "300           False         False           False                   False   \n",
      "\n",
      "     Car_Name_wagon r  Car_Name_xcent  Fuel_Type_Diesel  Fuel_Type_Petrol  \\\n",
      "0               False           False             False              True   \n",
      "1               False           False              True             False   \n",
      "2               False           False             False              True   \n",
      "3                True           False             False              True   \n",
      "4               False           False              True             False   \n",
      "..                ...             ...               ...               ...   \n",
      "296             False           False              True             False   \n",
      "297             False           False             False              True   \n",
      "298             False           False             False              True   \n",
      "299             False           False              True             False   \n",
      "300             False           False             False              True   \n",
      "\n",
      "     Seller_Type_Individual  Transmission_Manual  \n",
      "0                     False                 True  \n",
      "1                     False                 True  \n",
      "2                     False                 True  \n",
      "3                     False                 True  \n",
      "4                     False                 True  \n",
      "..                      ...                  ...  \n",
      "296                   False                 True  \n",
      "297                   False                 True  \n",
      "298                   False                 True  \n",
      "299                   False                 True  \n",
      "300                   False                 True  \n",
      "\n",
      "[299 rows x 106 columns]\n"
     ]
    }
   ],
   "source": [
    "# Automatically detect categorical columns\n",
    "categorical_columns = df.select_dtypes(include=['object']).columns\n",
    "\n",
    "# One-hot encode all categorical columns\n",
    "df_encoded = pd.get_dummies(df, columns=categorical_columns, drop_first=True)\n",
    "\n",
    "print(\"\\nDataFrame after One-Hot Encoding All Categorical Columns:\")\n",
    "print(df_encoded)\n"
   ]
  },
  {
   "cell_type": "code",
   "execution_count": 13,
   "id": "8c92f5ab",
   "metadata": {},
   "outputs": [
    {
     "data": {
      "text/html": [
       "<div>\n",
       "<style scoped>\n",
       "    .dataframe tbody tr th:only-of-type {\n",
       "        vertical-align: middle;\n",
       "    }\n",
       "\n",
       "    .dataframe tbody tr th {\n",
       "        vertical-align: top;\n",
       "    }\n",
       "\n",
       "    .dataframe thead th {\n",
       "        text-align: right;\n",
       "    }\n",
       "</style>\n",
       "<table border=\"1\" class=\"dataframe\">\n",
       "  <thead>\n",
       "    <tr style=\"text-align: right;\">\n",
       "      <th></th>\n",
       "      <th>Year</th>\n",
       "      <th>Selling_Price</th>\n",
       "      <th>Present_Price</th>\n",
       "      <th>Kms_Driven</th>\n",
       "      <th>Owner</th>\n",
       "      <th>Car_Name_Activa 3g</th>\n",
       "      <th>Car_Name_Activa 4g</th>\n",
       "      <th>Car_Name_Bajaj  ct 100</th>\n",
       "      <th>Car_Name_Bajaj Avenger 150</th>\n",
       "      <th>Car_Name_Bajaj Avenger 150 street</th>\n",
       "      <th>...</th>\n",
       "      <th>Car_Name_swift</th>\n",
       "      <th>Car_Name_sx4</th>\n",
       "      <th>Car_Name_verna</th>\n",
       "      <th>Car_Name_vitara brezza</th>\n",
       "      <th>Car_Name_wagon r</th>\n",
       "      <th>Car_Name_xcent</th>\n",
       "      <th>Fuel_Type_Diesel</th>\n",
       "      <th>Fuel_Type_Petrol</th>\n",
       "      <th>Seller_Type_Individual</th>\n",
       "      <th>Transmission_Manual</th>\n",
       "    </tr>\n",
       "  </thead>\n",
       "  <tbody>\n",
       "    <tr>\n",
       "      <th>0</th>\n",
       "      <td>2014</td>\n",
       "      <td>3.35</td>\n",
       "      <td>5.59</td>\n",
       "      <td>27000</td>\n",
       "      <td>0</td>\n",
       "      <td>False</td>\n",
       "      <td>False</td>\n",
       "      <td>False</td>\n",
       "      <td>False</td>\n",
       "      <td>False</td>\n",
       "      <td>...</td>\n",
       "      <td>False</td>\n",
       "      <td>False</td>\n",
       "      <td>False</td>\n",
       "      <td>False</td>\n",
       "      <td>False</td>\n",
       "      <td>False</td>\n",
       "      <td>False</td>\n",
       "      <td>True</td>\n",
       "      <td>False</td>\n",
       "      <td>True</td>\n",
       "    </tr>\n",
       "    <tr>\n",
       "      <th>1</th>\n",
       "      <td>2013</td>\n",
       "      <td>4.75</td>\n",
       "      <td>9.54</td>\n",
       "      <td>43000</td>\n",
       "      <td>0</td>\n",
       "      <td>False</td>\n",
       "      <td>False</td>\n",
       "      <td>False</td>\n",
       "      <td>False</td>\n",
       "      <td>False</td>\n",
       "      <td>...</td>\n",
       "      <td>False</td>\n",
       "      <td>True</td>\n",
       "      <td>False</td>\n",
       "      <td>False</td>\n",
       "      <td>False</td>\n",
       "      <td>False</td>\n",
       "      <td>True</td>\n",
       "      <td>False</td>\n",
       "      <td>False</td>\n",
       "      <td>True</td>\n",
       "    </tr>\n",
       "    <tr>\n",
       "      <th>2</th>\n",
       "      <td>2017</td>\n",
       "      <td>7.25</td>\n",
       "      <td>9.85</td>\n",
       "      <td>6900</td>\n",
       "      <td>0</td>\n",
       "      <td>False</td>\n",
       "      <td>False</td>\n",
       "      <td>False</td>\n",
       "      <td>False</td>\n",
       "      <td>False</td>\n",
       "      <td>...</td>\n",
       "      <td>False</td>\n",
       "      <td>False</td>\n",
       "      <td>False</td>\n",
       "      <td>False</td>\n",
       "      <td>False</td>\n",
       "      <td>False</td>\n",
       "      <td>False</td>\n",
       "      <td>True</td>\n",
       "      <td>False</td>\n",
       "      <td>True</td>\n",
       "    </tr>\n",
       "    <tr>\n",
       "      <th>3</th>\n",
       "      <td>2011</td>\n",
       "      <td>2.85</td>\n",
       "      <td>4.15</td>\n",
       "      <td>5200</td>\n",
       "      <td>0</td>\n",
       "      <td>False</td>\n",
       "      <td>False</td>\n",
       "      <td>False</td>\n",
       "      <td>False</td>\n",
       "      <td>False</td>\n",
       "      <td>...</td>\n",
       "      <td>False</td>\n",
       "      <td>False</td>\n",
       "      <td>False</td>\n",
       "      <td>False</td>\n",
       "      <td>True</td>\n",
       "      <td>False</td>\n",
       "      <td>False</td>\n",
       "      <td>True</td>\n",
       "      <td>False</td>\n",
       "      <td>True</td>\n",
       "    </tr>\n",
       "    <tr>\n",
       "      <th>4</th>\n",
       "      <td>2014</td>\n",
       "      <td>4.60</td>\n",
       "      <td>6.87</td>\n",
       "      <td>42450</td>\n",
       "      <td>0</td>\n",
       "      <td>False</td>\n",
       "      <td>False</td>\n",
       "      <td>False</td>\n",
       "      <td>False</td>\n",
       "      <td>False</td>\n",
       "      <td>...</td>\n",
       "      <td>True</td>\n",
       "      <td>False</td>\n",
       "      <td>False</td>\n",
       "      <td>False</td>\n",
       "      <td>False</td>\n",
       "      <td>False</td>\n",
       "      <td>True</td>\n",
       "      <td>False</td>\n",
       "      <td>False</td>\n",
       "      <td>True</td>\n",
       "    </tr>\n",
       "  </tbody>\n",
       "</table>\n",
       "<p>5 rows × 106 columns</p>\n",
       "</div>"
      ],
      "text/plain": [
       "   Year  Selling_Price  Present_Price  Kms_Driven  Owner  Car_Name_Activa 3g  \\\n",
       "0  2014           3.35           5.59       27000      0               False   \n",
       "1  2013           4.75           9.54       43000      0               False   \n",
       "2  2017           7.25           9.85        6900      0               False   \n",
       "3  2011           2.85           4.15        5200      0               False   \n",
       "4  2014           4.60           6.87       42450      0               False   \n",
       "\n",
       "   Car_Name_Activa 4g  Car_Name_Bajaj  ct 100  Car_Name_Bajaj Avenger 150  \\\n",
       "0               False                   False                       False   \n",
       "1               False                   False                       False   \n",
       "2               False                   False                       False   \n",
       "3               False                   False                       False   \n",
       "4               False                   False                       False   \n",
       "\n",
       "   Car_Name_Bajaj Avenger 150 street  ...  Car_Name_swift  Car_Name_sx4  \\\n",
       "0                              False  ...           False         False   \n",
       "1                              False  ...           False          True   \n",
       "2                              False  ...           False         False   \n",
       "3                              False  ...           False         False   \n",
       "4                              False  ...            True         False   \n",
       "\n",
       "   Car_Name_verna  Car_Name_vitara brezza  Car_Name_wagon r  Car_Name_xcent  \\\n",
       "0           False                   False             False           False   \n",
       "1           False                   False             False           False   \n",
       "2           False                   False             False           False   \n",
       "3           False                   False              True           False   \n",
       "4           False                   False             False           False   \n",
       "\n",
       "   Fuel_Type_Diesel  Fuel_Type_Petrol  Seller_Type_Individual  \\\n",
       "0             False              True                   False   \n",
       "1              True             False                   False   \n",
       "2             False              True                   False   \n",
       "3             False              True                   False   \n",
       "4              True             False                   False   \n",
       "\n",
       "   Transmission_Manual  \n",
       "0                 True  \n",
       "1                 True  \n",
       "2                 True  \n",
       "3                 True  \n",
       "4                 True  \n",
       "\n",
       "[5 rows x 106 columns]"
      ]
     },
     "execution_count": 13,
     "metadata": {},
     "output_type": "execute_result"
    }
   ],
   "source": [
    "df_encoded.head()\n"
   ]
  },
  {
   "cell_type": "markdown",
   "id": "d92c2118-4a6c-4063-a340-275a38b8ae8b",
   "metadata": {},
   "source": [
    "### 5. Exploratory Data Analysis (EDA)"
   ]
  },
  {
   "cell_type": "code",
   "execution_count": null,
   "id": "aaa00e75-f713-4c82-853b-95b8cf7ae29f",
   "metadata": {},
   "outputs": [],
   "source": []
  },
  {
   "cell_type": "markdown",
   "id": "d9bc70fe",
   "metadata": {},
   "source": [
    "### 6.Regression\n"
   ]
  },
  {
   "cell_type": "code",
   "execution_count": null,
   "id": "dc2b36cf",
   "metadata": {},
   "outputs": [],
   "source": []
  },
  {
   "cell_type": "markdown",
   "id": "d4674172-1504-462f-8d0f-39b557d5db48",
   "metadata": {},
   "source": [
    "### 7. Conclusion\n"
   ]
  },
  {
   "cell_type": "code",
   "execution_count": null,
   "id": "d4d0657a-ba9e-47cf-b8e0-8afe1c137d17",
   "metadata": {},
   "outputs": [],
   "source": []
  }
 ],
 "metadata": {
  "kernelspec": {
   "display_name": "regression_env",
   "language": "python",
   "name": "python3"
  },
  "language_info": {
   "codemirror_mode": {
    "name": "ipython",
    "version": 3
   },
   "file_extension": ".py",
   "mimetype": "text/x-python",
   "name": "python",
   "nbconvert_exporter": "python",
   "pygments_lexer": "ipython3",
   "version": "3.8.20"
  }
 },
 "nbformat": 4,
 "nbformat_minor": 5
}
